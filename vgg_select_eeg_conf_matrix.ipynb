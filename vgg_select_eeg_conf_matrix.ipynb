{
  "nbformat": 4,
  "nbformat_minor": 0,
  "metadata": {
    "colab": {
      "name": "vgg_select_eeg_conf_matrix.ipynb",
      "provenance": [],
      "collapsed_sections": [],
      "include_colab_link": true
    },
    "kernelspec": {
      "name": "python3",
      "display_name": "Python 3"
    },
    "accelerator": "GPU"
  },
  "cells": [
    {
      "cell_type": "markdown",
      "metadata": {
        "id": "view-in-github",
        "colab_type": "text"
      },
      "source": [
        "<a href=\"https://colab.research.google.com/github/frh02/ProjectEEG/blob/master/vgg_select_eeg_conf_matrix.ipynb\" target=\"_parent\"><img src=\"https://colab.research.google.com/assets/colab-badge.svg\" alt=\"Open In Colab\"/></a>"
      ]
    },
    {
      "cell_type": "code",
      "metadata": {
        "id": "rMMT6u5cyBOQ",
        "colab_type": "code",
        "colab": {}
      },
      "source": [
        "from keras.layers import Input, Lambda, Dense, Flatten,Reshape,Dropout\n",
        "from keras.models import Model\n",
        "from keras.applications.vgg16 import VGG16\n",
        "from keras.applications.vgg16 import preprocess_input\n",
        "from keras.preprocessing import image\n",
        "from keras.preprocessing.image import ImageDataGenerator\n",
        "from keras.models import Sequential\n",
        "from keras.utils.np_utils import to_categorical \n",
        "import keras \n",
        "import numpy as np\n",
        "from glob import glob\n",
        "import matplotlib.pyplot as plt\n",
        "import tensorflow as tf\n",
        "import os\n",
        "%matplotlib inline\n"
      ],
      "execution_count": null,
      "outputs": []
    },
    {
      "cell_type": "code",
      "metadata": {
        "id": "UeIBixmTyOCC",
        "colab_type": "code",
        "colab": {
          "base_uri": "https://localhost:8080/",
          "height": 496
        },
        "outputId": "4b72f806-094e-4933-cea3-1187264a524e"
      },
      "source": [
        "IMAGE_SIZE = [224, 224]\n",
        "\n",
        "train_path = '/content/drive/My Drive/Data_Combined/train'\n",
        "valid_path = '/content/drive/My Drive/Data_Combined/validation'\n",
        "test_path = '/content/drive/My Drive/Data_Combined/test'\n",
        "\n",
        "vgg16_model = VGG16(weights=\"imagenet\", include_top=True)\n",
        "\n",
        "# (1) visualize layers\n",
        "print(\"VGG16 model layers\")\n",
        "for i, layer in enumerate(vgg16_model.layers):\n",
        "    print(i, layer.name, layer.output_shape)\n",
        "\n",
        "# (2) remove the top layer\n",
        "base_model = Model(input=vgg16_model.input, \n",
        "                   output=vgg16_model.get_layer(\"block5_pool\").output)\n",
        "\n",
        "# (3) attach a new top layer\n",
        "base_out = base_model.output\n",
        "base_out = Reshape((25088,))(base_out)\n",
        "top_fc1 = Dropout(0.5)(base_out)\n",
        "# output layer: (None, 5)\n",
        "top_preds = Dense(3, activation=\"sigmoid\")(top_fc1)\n",
        "\n",
        "# (4) freeze weights until the last but one convolution layer (block4_pool)\n",
        "for layer in base_model.layers[0:14]:\n",
        "    layer.trainable = False\n",
        "\n",
        "# (5) create new hybrid model\n",
        "model = Model(input=base_model.input, output=top_preds)\n",
        "\n",
        "# (6) compile and train the model\n",
        "sgd = keras.optimizers.SGD(lr=1e-4, momentum=0.9)\n",
        "model.compile(optimizer=sgd, loss=\"binary_crossentropy\", metrics=[\"accuracy\"])"
      ],
      "execution_count": null,
      "outputs": [
        {
          "output_type": "stream",
          "text": [
            "VGG16 model layers\n",
            "0 input_6 (None, 224, 224, 3)\n",
            "1 block1_conv1 (None, 224, 224, 64)\n",
            "2 block1_conv2 (None, 224, 224, 64)\n",
            "3 block1_pool (None, 112, 112, 64)\n",
            "4 block2_conv1 (None, 112, 112, 128)\n",
            "5 block2_conv2 (None, 112, 112, 128)\n",
            "6 block2_pool (None, 56, 56, 128)\n",
            "7 block3_conv1 (None, 56, 56, 256)\n",
            "8 block3_conv2 (None, 56, 56, 256)\n",
            "9 block3_conv3 (None, 56, 56, 256)\n",
            "10 block3_pool (None, 28, 28, 256)\n",
            "11 block4_conv1 (None, 28, 28, 512)\n",
            "12 block4_conv2 (None, 28, 28, 512)\n",
            "13 block4_conv3 (None, 28, 28, 512)\n",
            "14 block4_pool (None, 14, 14, 512)\n",
            "15 block5_conv1 (None, 14, 14, 512)\n",
            "16 block5_conv2 (None, 14, 14, 512)\n",
            "17 block5_conv3 (None, 14, 14, 512)\n",
            "18 block5_pool (None, 7, 7, 512)\n",
            "19 flatten (None, 25088)\n",
            "20 fc1 (None, 4096)\n",
            "21 fc2 (None, 4096)\n",
            "22 predictions (None, 1000)\n"
          ],
          "name": "stdout"
        },
        {
          "output_type": "stream",
          "text": [
            "/usr/local/lib/python3.6/dist-packages/ipykernel_launcher.py:16: UserWarning: Update your `Model` call to the Keras 2 API: `Model(inputs=Tensor(\"in..., outputs=Tensor(\"bl...)`\n",
            "  app.launch_new_instance()\n",
            "/usr/local/lib/python3.6/dist-packages/ipykernel_launcher.py:30: UserWarning: Update your `Model` call to the Keras 2 API: `Model(inputs=Tensor(\"in..., outputs=Tensor(\"de...)`\n"
          ],
          "name": "stderr"
        }
      ]
    },
    {
      "cell_type": "code",
      "metadata": {
        "id": "QUbPuerjIXPv",
        "colab_type": "code",
        "colab": {
          "base_uri": "https://localhost:8080/",
          "height": 122
        },
        "outputId": "fbcafc1f-e44f-4fb2-fe42-0757e634adee"
      },
      "source": [
        "from google.colab import drive\n",
        "drive.mount('/content/drive')"
      ],
      "execution_count": null,
      "outputs": [
        {
          "output_type": "stream",
          "text": [
            "Go to this URL in a browser: https://accounts.google.com/o/oauth2/auth?client_id=947318989803-6bn6qk8qdgf4n4g3pfee6491hc0brc4i.apps.googleusercontent.com&redirect_uri=urn%3aietf%3awg%3aoauth%3a2.0%3aoob&response_type=code&scope=email%20https%3a%2f%2fwww.googleapis.com%2fauth%2fdocs.test%20https%3a%2f%2fwww.googleapis.com%2fauth%2fdrive%20https%3a%2f%2fwww.googleapis.com%2fauth%2fdrive.photos.readonly%20https%3a%2f%2fwww.googleapis.com%2fauth%2fpeopleapi.readonly\n",
            "\n",
            "Enter your authorization code:\n",
            "··········\n",
            "Mounted at /content/drive\n"
          ],
          "name": "stdout"
        }
      ]
    },
    {
      "cell_type": "code",
      "metadata": {
        "id": "3Cipyol5yTpk",
        "colab_type": "code",
        "colab": {
          "base_uri": "https://localhost:8080/",
          "height": 901
        },
        "outputId": "a6ab6a00-a12b-490c-dd76-e2e2532ed873"
      },
      "source": [
        "# view the structure of the model\n",
        "model.summary()"
      ],
      "execution_count": null,
      "outputs": [
        {
          "output_type": "stream",
          "text": [
            "Model: \"model_12\"\n",
            "_________________________________________________________________\n",
            "Layer (type)                 Output Shape              Param #   \n",
            "=================================================================\n",
            "input_6 (InputLayer)         (None, 224, 224, 3)       0         \n",
            "_________________________________________________________________\n",
            "block1_conv1 (Conv2D)        (None, 224, 224, 64)      1792      \n",
            "_________________________________________________________________\n",
            "block1_conv2 (Conv2D)        (None, 224, 224, 64)      36928     \n",
            "_________________________________________________________________\n",
            "block1_pool (MaxPooling2D)   (None, 112, 112, 64)      0         \n",
            "_________________________________________________________________\n",
            "block2_conv1 (Conv2D)        (None, 112, 112, 128)     73856     \n",
            "_________________________________________________________________\n",
            "block2_conv2 (Conv2D)        (None, 112, 112, 128)     147584    \n",
            "_________________________________________________________________\n",
            "block2_pool (MaxPooling2D)   (None, 56, 56, 128)       0         \n",
            "_________________________________________________________________\n",
            "block3_conv1 (Conv2D)        (None, 56, 56, 256)       295168    \n",
            "_________________________________________________________________\n",
            "block3_conv2 (Conv2D)        (None, 56, 56, 256)       590080    \n",
            "_________________________________________________________________\n",
            "block3_conv3 (Conv2D)        (None, 56, 56, 256)       590080    \n",
            "_________________________________________________________________\n",
            "block3_pool (MaxPooling2D)   (None, 28, 28, 256)       0         \n",
            "_________________________________________________________________\n",
            "block4_conv1 (Conv2D)        (None, 28, 28, 512)       1180160   \n",
            "_________________________________________________________________\n",
            "block4_conv2 (Conv2D)        (None, 28, 28, 512)       2359808   \n",
            "_________________________________________________________________\n",
            "block4_conv3 (Conv2D)        (None, 28, 28, 512)       2359808   \n",
            "_________________________________________________________________\n",
            "block4_pool (MaxPooling2D)   (None, 14, 14, 512)       0         \n",
            "_________________________________________________________________\n",
            "block5_conv1 (Conv2D)        (None, 14, 14, 512)       2359808   \n",
            "_________________________________________________________________\n",
            "block5_conv2 (Conv2D)        (None, 14, 14, 512)       2359808   \n",
            "_________________________________________________________________\n",
            "block5_conv3 (Conv2D)        (None, 14, 14, 512)       2359808   \n",
            "_________________________________________________________________\n",
            "block5_pool (MaxPooling2D)   (None, 7, 7, 512)         0         \n",
            "_________________________________________________________________\n",
            "reshape_6 (Reshape)          (None, 25088)             0         \n",
            "_________________________________________________________________\n",
            "dropout_6 (Dropout)          (None, 25088)             0         \n",
            "_________________________________________________________________\n",
            "dense_6 (Dense)              (None, 3)                 75267     \n",
            "=================================================================\n",
            "Total params: 14,789,955\n",
            "Trainable params: 7,154,691\n",
            "Non-trainable params: 7,635,264\n",
            "_________________________________________________________________\n"
          ],
          "name": "stdout"
        }
      ]
    },
    {
      "cell_type": "code",
      "metadata": {
        "id": "kPjr6hr6JdSE",
        "colab_type": "code",
        "colab": {}
      },
      "source": [
        "if not os.path.isdir('/content/drive/My Drive/Colab Notebooks/CNN_VGG_Weights'):\n",
        "    os.mkdir('/content/drive/My Drive/Colab Notebooks/CNN_VGG_Weights')"
      ],
      "execution_count": null,
      "outputs": []
    },
    {
      "cell_type": "code",
      "metadata": {
        "id": "WBQq1U3myY3b",
        "colab_type": "code",
        "colab": {
          "base_uri": "https://localhost:8080/",
          "height": 68
        },
        "outputId": "0560c75a-537a-457d-fd1d-db5dc5ba82b9"
      },
      "source": [
        "from keras.preprocessing.image import ImageDataGenerator\n",
        "\n",
        "train_datagen = ImageDataGenerator(rescale = 1./255,\n",
        "                                   shear_range = 0.2,\n",
        "                                   zoom_range = 0.2,\n",
        "                                   horizontal_flip = True)\n",
        "\n",
        "valid_datagen = ImageDataGenerator(rescale = 1./255)\n",
        "\n",
        "test_datagen = ImageDataGenerator(rescale= 1./255)\n",
        "\n",
        "training_set = train_datagen.flow_from_directory('/content/drive/My Drive/Data_Combined/train',\n",
        "                                                 target_size = (224, 224),\n",
        "                                                 batch_size = 32,\n",
        "                                                 shuffle=False,\n",
        "                                                 class_mode = 'categorical')\n",
        "\n",
        "nb_train_samples = len(training_set.filenames) \n",
        "num_classes = len(training_set.class_indices) \n",
        "train_labels = training_set.classes \n",
        "train_labels = to_categorical(train_labels, num_classes=num_classes)\n",
        "\n",
        "valid_set = valid_datagen.flow_from_directory('/content/drive/My Drive/Data_Combined/validation',\n",
        "                                            target_size = (224, 224),\n",
        "                                            batch_size = 32,\n",
        "                                            shuffle=False,\n",
        "                                            class_mode = 'categorical')\n",
        "\n",
        "nb_valid_samples = len(valid_set.filenames) \n",
        "num_classes = len(valid_set.class_indices) \n",
        "valid_labels = valid_set.classes \n",
        "valid_labels = to_categorical(valid_labels, num_classes=num_classes)\n",
        "\n",
        "test_set = test_datagen.flow_from_directory('/content/drive/My Drive/Data_Combined/test',\n",
        "                                            target_size = (224, 224),\n",
        "                                            batch_size = 32,\n",
        "                                            shuffle=False,\n",
        "                                            class_mode = 'categorical')\n",
        "\n",
        "nb_train_samples = len(test_set.filenames) \n",
        "num_classes = len(test_set.class_indices) \n",
        "test_labels = test_set.classes \n",
        "test_labels = to_categorical(test_labels, num_classes=num_classes)\n"
      ],
      "execution_count": null,
      "outputs": [
        {
          "output_type": "stream",
          "text": [
            "Found 7750 images belonging to 3 classes.\n",
            "Found 2082 images belonging to 3 classes.\n",
            "Found 1038 images belonging to 3 classes.\n"
          ],
          "name": "stdout"
        }
      ]
    },
    {
      "cell_type": "code",
      "metadata": {
        "id": "mSvfpIddKla-",
        "colab_type": "code",
        "colab": {}
      },
      "source": [
        "from keras.callbacks import ModelCheckpoint\n",
        "#from tensorflow.keras.callbacks import ModelCheckpoint"
      ],
      "execution_count": null,
      "outputs": []
    },
    {
      "cell_type": "code",
      "metadata": {
        "id": "NV2ue3W7ybBj",
        "colab_type": "code",
        "colab": {
          "base_uri": "https://localhost:8080/",
          "height": 51
        },
        "outputId": "c3ac86d8-398b-46f5-de00-d6da211a7238"
      },
      "source": [
        "r = model.fit_generator(\n",
        "  training_set,\n",
        "  validation_data=valid_set,\n",
        "  epochs=5,\n",
        "  steps_per_epoch=len(training_set),\n",
        "  validation_steps=len(valid_set),\n",
        "  callbacks=[ModelCheckpoint('/content/drive/My Drive/Colab Notebooks/CNN_VGG_Weights/new_model_{epoch:03d}_{val_accuracy:.3f}.h5', \n",
        "                                            save_best_only=True,\n",
        "                                            save_weights_only=False,\n",
        "                                            monitor='val_accuracy')\n",
        "          ],\n",
        "initial_epoch=0\n",
        ")"
      ],
      "execution_count": null,
      "outputs": [
        {
          "output_type": "stream",
          "text": [
            "Epoch 1/5\n",
            " 15/243 [>.............................] - ETA: 3:44 - loss: 0.7275 - accuracy: 0.5840"
          ],
          "name": "stdout"
        }
      ]
    },
    {
      "cell_type": "code",
      "metadata": {
        "id": "22u2fZjaMa1r",
        "colab_type": "code",
        "colab": {}
      },
      "source": [
        "#model.load_weights(bestmodel)\n",
        "model = keras.models.load_model('/content/drive/My Drive/Colab Notebooks/CNN_VGG_Weights/new_model_002_0.509.h5')"
      ],
      "execution_count": null,
      "outputs": []
    },
    {
      "cell_type": "code",
      "metadata": {
        "id": "Occqr3PjMbqA",
        "colab_type": "code",
        "colab": {
          "base_uri": "https://localhost:8080/",
          "height": 51
        },
        "outputId": "c7d8da8b-5f67-481c-8a17-9d6dad9fcecf"
      },
      "source": [
        "results = model.evaluate(training_set,steps=len(training_set))\n",
        "print('Train accuracy:', results[1]*100)"
      ],
      "execution_count": null,
      "outputs": [
        {
          "output_type": "stream",
          "text": [
            "243/243 [==============================] - 222s 912ms/step\n",
            "Train accuracy: 43.12258064746857\n"
          ],
          "name": "stdout"
        }
      ]
    },
    {
      "cell_type": "code",
      "metadata": {
        "id": "RusWA4KsMatH",
        "colab_type": "code",
        "colab": {
          "base_uri": "https://localhost:8080/",
          "height": 51
        },
        "outputId": "79e170dd-5a43-4219-e1d0-a8d3112f1502"
      },
      "source": [
        "results = model.evaluate(test_set,steps=len(test_set))\n",
        "print('Test accuracy:', results[1]*100)"
      ],
      "execution_count": null,
      "outputs": [
        {
          "output_type": "stream",
          "text": [
            "33/33 [==============================] - 19s 584ms/step\n",
            "Test accuracy: 50.867050886154175\n"
          ],
          "name": "stdout"
        }
      ]
    },
    {
      "cell_type": "code",
      "metadata": {
        "id": "kMGX2K-zrWPw",
        "colab_type": "code",
        "colab": {}
      },
      "source": [
        "#training data\n",
        "from keras.utils.np_utils import to_categorical \n",
        "import itertools\n",
        "nb_train_samples = len(test_set.filenames) \n",
        "num_classes = len(test_set.class_indices) \n",
        "\n",
        " \n",
        "# get the class labels for the training data, in the original order \n",
        "test_labels = test_set.classes \n",
        " \n",
        "# convert the training labels to categorical vectors \n",
        "test_labels = to_categorical(test_labels, num_classes=num_classes)"
      ],
      "execution_count": null,
      "outputs": []
    },
    {
      "cell_type": "code",
      "metadata": {
        "id": "KdxjQ2opqgO3",
        "colab_type": "code",
        "colab": {}
      },
      "source": [
        "#Since our data is in dummy format we put the numpy array into a dataframe and call idxmax axis=1 to return the column\n",
        "# label of the maximum value thus creating a categorical variable\n",
        "#Basically, flipping a dummy variable back to it’s categorical variable\n",
        "\n",
        "\n",
        "Y_pred = model.predict_generator(test_set,len(test_set),0)\n",
        "\n",
        "categorical_test_labels = pd.DataFrame(test_labels).idxmax(axis=1)\n",
        "categorical_preds = pd.DataFrame(Y_pred).idxmax(axis=1)\n",
        "confusion_matrix= confusion_matrix(categorical_test_labels, categorical_preds)\n",
        "\n",
        "#To get better visual of the confusion matrix:\n",
        "def plot_confusion_matrix(cm, classes,\n",
        "   normalize=False,\n",
        "   title=\"Confusion matrix\",\n",
        "   cmap=plt.cm.Blues):\n",
        " \n",
        "#Add Normalization Option\n",
        "   \n",
        "   \n",
        "   if normalize:\n",
        "     cm = cm.astype('float') / cm.sum(axis=1)[:, np.newaxis]\n",
        "     print('Normalized confusion matrix')\n",
        "   else:\n",
        "     print('Confusion matrix, without normalization')\n",
        " \n",
        "# print(cm)\n",
        " \n",
        "   plt.imshow(cm, interpolation='nearest', cmap=cmap)\n",
        "   plt.title(title)\n",
        "   plt.colorbar()\n",
        "   tick_marks = np.arange(len(classes))\n",
        "   plt.xticks(tick_marks, classes, rotation=45)\n",
        "   plt.yticks(tick_marks, classes)\n",
        " \n",
        "   fmt = '.2f' if normalize else 'd'\n",
        "   thresh = cm.max() / 2.\n",
        "   for i, j in itertools.product(range(cm.shape[0]), range(cm.shape[1])):\n",
        "      plt.text(j, i, format(cm[i, j], fmt), horizontalalignment='center', color='white' if cm[i, j] > thresh else 'black')\n",
        " \n",
        "   plt.tight_layout()\n",
        "   plt.ylabel('True label')\n",
        "   plt.xlabel('Predicted label') \n"
      ],
      "execution_count": null,
      "outputs": []
    },
    {
      "cell_type": "code",
      "metadata": {
        "id": "uLO5WrTQszTM",
        "colab_type": "code",
        "colab": {
          "base_uri": "https://localhost:8080/",
          "height": 328
        },
        "outputId": "5685de46-a6a1-46f7-c7bc-c0bc4f48a6a3"
      },
      "source": [
        "plot_confusion_matrix(confusion_matrix,['Anesthesia Deep', 'Anesthesia Low', 'Anesthesia Okay'],normalize=True)"
      ],
      "execution_count": null,
      "outputs": [
        {
          "output_type": "stream",
          "text": [
            "Normalized confusion matrix\n"
          ],
          "name": "stdout"
        },
        {
          "output_type": "display_data",
          "data": {
            "image/png": "[encoded data removed]",
            "text/plain": [
              "<Figure size 432x288 with 2 Axes>"
            ]
          },
          "metadata": {
            "tags": [],
            "needs_background": "light"
          }
        }
      ]
    },
    {
      "cell_type": "code",
      "metadata": {
        "id": "6Gx7-5SxOtzF",
        "colab_type": "code",
        "colab": {
          "base_uri": "https://localhost:8080/",
          "height": 272
        },
        "outputId": "e8fe5a65-77a6-4c81-bc4b-e9a456d6af2f"
      },
      "source": [
        "from sklearn.metrics import classification_report, confusion_matrix\n",
        "  \n",
        "#Confution Matrix and Classification Report\n",
        "Y_pred = model.predict_generator(test_set,len(test_set))\n",
        "y_pred = np.argmax(Y_pred, axis=1)\n",
        "\n",
        "print('Confusion Matrix')\n",
        "print(confusion_matrix(test_set.classes, y_pred))\n",
        "\n",
        "print('Classification Report')\n",
        "target_names = ['Anesthesia Deep', 'Anesthesia Low', 'Anesthesia Okay']\n",
        "print(classification_report(test_set.classes, y_pred, target_names=target_names))"
      ],
      "execution_count": null,
      "outputs": [
        {
          "output_type": "stream",
          "text": [
            "Confusion Matrix\n",
            "[[205 138   3]\n",
            " [ 22 314  10]\n",
            " [ 75 262   9]]\n",
            "Classification Report\n",
            "                 precision    recall  f1-score   support\n",
            "\n",
            "Anesthesia Deep       0.68      0.59      0.63       346\n",
            " Anesthesia Low       0.44      0.91      0.59       346\n",
            "Anesthesia Okay       0.41      0.03      0.05       346\n",
            "\n",
            "       accuracy                           0.51      1038\n",
            "      macro avg       0.51      0.51      0.42      1038\n",
            "   weighted avg       0.51      0.51      0.42      1038\n",
            "\n"
          ],
          "name": "stdout"
        }
      ]
    }
  ]
}