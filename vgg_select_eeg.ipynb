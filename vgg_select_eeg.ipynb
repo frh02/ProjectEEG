{
  "nbformat": 4,
  "nbformat_minor": 0,
  "metadata": {
    "colab": {
      "name": "vgg_select_eeg.ipynb",
      "provenance": [],
      "collapsed_sections": [],
      "mount_file_id": "1sPp8KEnsow_lj9if6jD0olsF96TGJuTS",
      "authorship_tag": "ABX9TyNllaHveRZSsMBkwWo/lSid",
      "include_colab_link": true
    },
    "kernelspec": {
      "name": "python3",
      "display_name": "Python 3"
    },
    "accelerator": "GPU"
  },
  "cells": [
    {
      "cell_type": "markdown",
      "metadata": {
        "id": "view-in-github",
        "colab_type": "text"
      },
      "source": [
        "<a href=\"https://colab.research.google.com/github/frh02/ProjectEEG/blob/master/vgg_select_eeg.ipynb\" target=\"_parent\"><img src=\"https://colab.research.google.com/assets/colab-badge.svg\" alt=\"Open In Colab\"/></a>"
      ]
    },
    {
      "cell_type": "code",
      "metadata": {
        "id": "rMMT6u5cyBOQ",
        "colab_type": "code",
        "colab": {}
      },
      "source": [
        "from keras.layers import Input, Lambda, Dense, Flatten,Reshape,Dropout\n",
        "from keras.models import Model\n",
        "from keras.applications.vgg16 import VGG16\n",
        "from keras.applications.vgg16 import preprocess_input\n",
        "from keras.preprocessing import image\n",
        "from keras.preprocessing.image import ImageDataGenerator\n",
        "from keras.models import Sequential\n",
        "import numpy as np\n",
        "from glob import glob\n",
        "import matplotlib.pyplot as plt\n",
        "import tensorflow as tf\n",
        "import os\n"
      ],
      "execution_count": 5,
      "outputs": []
    },
    {
      "cell_type": "code",
      "metadata": {
        "id": "UeIBixmTyOCC",
        "colab_type": "code",
        "colab": {
          "base_uri": "https://localhost:8080/",
          "height": 530
        },
        "outputId": "f234d280-f316-4f4d-d9d7-6bf334d70f7a"
      },
      "source": [
        "IMAGE_SIZE = [224, 224]\n",
        "\n",
        "train_path = '/content/drive/My Drive/Data_Combined/train'\n",
        "valid_path = '/content/drive/My Drive/Data_Combined/validation'\n",
        "test_path = '/content/drive/My Drive/Data_Combined/test'\n",
        "\n",
        "vgg16_model = VGG16(weights=\"imagenet\", include_top=True)\n",
        "\n",
        "# (1) visualize layers\n",
        "print(\"VGG16 model layers\")\n",
        "for i, layer in enumerate(vgg16_model.layers):\n",
        "    print(i, layer.name, layer.output_shape)\n",
        "\n",
        "# (2) remove the top layer\n",
        "base_model = Model(input=vgg16_model.input, \n",
        "                   output=vgg16_model.get_layer(\"block5_pool\").output)\n",
        "\n",
        "# (3) attach a new top layer\n",
        "base_out = base_model.output\n",
        "base_out = Reshape((25088,))(base_out)\n",
        "top_fc1 = Dropout(0.5)(base_out)\n",
        "# output layer: (None, 5)\n",
        "top_preds = Dense(3, activation=\"sigmoid\")(top_fc1)\n",
        "\n",
        "# (4) freeze weights until the last but one convolution layer (block4_pool)\n",
        "for layer in base_model.layers[0:14]:\n",
        "    layer.trainable = False\n",
        "\n",
        "# (5) create new hybrid model\n",
        "model = Model(input=base_model.input, output=top_preds)\n",
        "\n",
        "# (6) compile and train the model\n",
        "sgd = tf.keras.optimizers.SGD(lr=1e-4, momentum=0.9)\n",
        "model.compile(optimizer=sgd, loss=\"binary_crossentropy\", metrics=[\"accuracy\"])"
      ],
      "execution_count": 2,
      "outputs": [
        {
          "output_type": "stream",
          "text": [
            "Downloading data from https://github.com/fchollet/deep-learning-models/releases/download/v0.1/vgg16_weights_tf_dim_ordering_tf_kernels.h5\n",
            "553467904/553467096 [==============================] - 22s 0us/step\n",
            "VGG16 model layers\n",
            "0 input_1 (None, 224, 224, 3)\n",
            "1 block1_conv1 (None, 224, 224, 64)\n",
            "2 block1_conv2 (None, 224, 224, 64)\n",
            "3 block1_pool (None, 112, 112, 64)\n",
            "4 block2_conv1 (None, 112, 112, 128)\n",
            "5 block2_conv2 (None, 112, 112, 128)\n",
            "6 block2_pool (None, 56, 56, 128)\n",
            "7 block3_conv1 (None, 56, 56, 256)\n",
            "8 block3_conv2 (None, 56, 56, 256)\n",
            "9 block3_conv3 (None, 56, 56, 256)\n",
            "10 block3_pool (None, 28, 28, 256)\n",
            "11 block4_conv1 (None, 28, 28, 512)\n",
            "12 block4_conv2 (None, 28, 28, 512)\n",
            "13 block4_conv3 (None, 28, 28, 512)\n",
            "14 block4_pool (None, 14, 14, 512)\n",
            "15 block5_conv1 (None, 14, 14, 512)\n",
            "16 block5_conv2 (None, 14, 14, 512)\n",
            "17 block5_conv3 (None, 14, 14, 512)\n",
            "18 block5_pool (None, 7, 7, 512)\n",
            "19 flatten (None, 25088)\n",
            "20 fc1 (None, 4096)\n",
            "21 fc2 (None, 4096)\n",
            "22 predictions (None, 1000)\n"
          ],
          "name": "stdout"
        },
        {
          "output_type": "stream",
          "text": [
            "/usr/local/lib/python3.6/dist-packages/ipykernel_launcher.py:16: UserWarning: Update your `Model` call to the Keras 2 API: `Model(inputs=Tensor(\"in..., outputs=Tensor(\"bl...)`\n",
            "  app.launch_new_instance()\n",
            "/usr/local/lib/python3.6/dist-packages/ipykernel_launcher.py:30: UserWarning: Update your `Model` call to the Keras 2 API: `Model(inputs=Tensor(\"in..., outputs=Tensor(\"de...)`\n"
          ],
          "name": "stderr"
        }
      ]
    },
    {
      "cell_type": "code",
      "metadata": {
        "id": "3Cipyol5yTpk",
        "colab_type": "code",
        "colab": {
          "base_uri": "https://localhost:8080/",
          "height": 901
        },
        "outputId": "19000be8-2999-4fb2-889b-3fbb51284a4b"
      },
      "source": [
        "# view the structure of the model\n",
        "model.summary()"
      ],
      "execution_count": 3,
      "outputs": [
        {
          "output_type": "stream",
          "text": [
            "Model: \"model_2\"\n",
            "_________________________________________________________________\n",
            "Layer (type)                 Output Shape              Param #   \n",
            "=================================================================\n",
            "input_1 (InputLayer)         (None, 224, 224, 3)       0         \n",
            "_________________________________________________________________\n",
            "block1_conv1 (Conv2D)        (None, 224, 224, 64)      1792      \n",
            "_________________________________________________________________\n",
            "block1_conv2 (Conv2D)        (None, 224, 224, 64)      36928     \n",
            "_________________________________________________________________\n",
            "block1_pool (MaxPooling2D)   (None, 112, 112, 64)      0         \n",
            "_________________________________________________________________\n",
            "block2_conv1 (Conv2D)        (None, 112, 112, 128)     73856     \n",
            "_________________________________________________________________\n",
            "block2_conv2 (Conv2D)        (None, 112, 112, 128)     147584    \n",
            "_________________________________________________________________\n",
            "block2_pool (MaxPooling2D)   (None, 56, 56, 128)       0         \n",
            "_________________________________________________________________\n",
            "block3_conv1 (Conv2D)        (None, 56, 56, 256)       295168    \n",
            "_________________________________________________________________\n",
            "block3_conv2 (Conv2D)        (None, 56, 56, 256)       590080    \n",
            "_________________________________________________________________\n",
            "block3_conv3 (Conv2D)        (None, 56, 56, 256)       590080    \n",
            "_________________________________________________________________\n",
            "block3_pool (MaxPooling2D)   (None, 28, 28, 256)       0         \n",
            "_________________________________________________________________\n",
            "block4_conv1 (Conv2D)        (None, 28, 28, 512)       1180160   \n",
            "_________________________________________________________________\n",
            "block4_conv2 (Conv2D)        (None, 28, 28, 512)       2359808   \n",
            "_________________________________________________________________\n",
            "block4_conv3 (Conv2D)        (None, 28, 28, 512)       2359808   \n",
            "_________________________________________________________________\n",
            "block4_pool (MaxPooling2D)   (None, 14, 14, 512)       0         \n",
            "_________________________________________________________________\n",
            "block5_conv1 (Conv2D)        (None, 14, 14, 512)       2359808   \n",
            "_________________________________________________________________\n",
            "block5_conv2 (Conv2D)        (None, 14, 14, 512)       2359808   \n",
            "_________________________________________________________________\n",
            "block5_conv3 (Conv2D)        (None, 14, 14, 512)       2359808   \n",
            "_________________________________________________________________\n",
            "block5_pool (MaxPooling2D)   (None, 7, 7, 512)         0         \n",
            "_________________________________________________________________\n",
            "reshape_1 (Reshape)          (None, 25088)             0         \n",
            "_________________________________________________________________\n",
            "dropout_1 (Dropout)          (None, 25088)             0         \n",
            "_________________________________________________________________\n",
            "dense_1 (Dense)              (None, 3)                 75267     \n",
            "=================================================================\n",
            "Total params: 14,789,955\n",
            "Trainable params: 7,154,691\n",
            "Non-trainable params: 7,635,264\n",
            "_________________________________________________________________\n"
          ],
          "name": "stdout"
        }
      ]
    },
    {
      "cell_type": "code",
      "metadata": {
        "id": "kPjr6hr6JdSE",
        "colab_type": "code",
        "colab": {}
      },
      "source": [
        "if not os.path.isdir('/content/drive/My Drive/Colab Notebooks/CNN_VGG_Weights'):\n",
        "    os.mkdir('/content/drive/My Drive/Colab Notebooks/CNN_VGG_Weights')"
      ],
      "execution_count": 6,
      "outputs": []
    },
    {
      "cell_type": "code",
      "metadata": {
        "id": "WBQq1U3myY3b",
        "colab_type": "code",
        "colab": {
          "base_uri": "https://localhost:8080/",
          "height": 68
        },
        "outputId": "e9c7588e-12e2-4d0e-8540-3224ccafec44"
      },
      "source": [
        "from keras.preprocessing.image import ImageDataGenerator\n",
        "\n",
        "train_datagen = ImageDataGenerator(rescale = 1./255,\n",
        "                                   shear_range = 0.2,\n",
        "                                   zoom_range = 0.2,\n",
        "                                   horizontal_flip = True)\n",
        "\n",
        "valid_datagen = ImageDataGenerator(rescale = 1./255)\n",
        "\n",
        "test_datagen = ImageDataGenerator(rescale= 1./255)\n",
        "\n",
        "training_set = train_datagen.flow_from_directory('/content/drive/My Drive/Data_Combined/train',\n",
        "                                                 target_size = (224, 224),\n",
        "                                                 batch_size = 32,\n",
        "                                                 class_mode = 'categorical')\n",
        "\n",
        "valid_set = valid_datagen.flow_from_directory('/content/drive/My Drive/Data_Combined/validation',\n",
        "                                            target_size = (224, 224),\n",
        "                                            batch_size = 32,\n",
        "                                            class_mode = 'categorical')\n",
        "\n",
        "test_set = test_datagen.flow_from_directory('/content/drive/My Drive/Data_Combined/test',\n",
        "                                            target_size = (224, 224),\n",
        "                                            batch_size = 32,\n",
        "                                            class_mode = 'categorical')\n"
      ],
      "execution_count": 7,
      "outputs": [
        {
          "output_type": "stream",
          "text": [
            "Found 7750 images belonging to 3 classes.\n",
            "Found 2082 images belonging to 3 classes.\n",
            "Found 1038 images belonging to 3 classes.\n"
          ],
          "name": "stdout"
        }
      ]
    },
    {
      "cell_type": "code",
      "metadata": {
        "id": "mSvfpIddKla-",
        "colab_type": "code",
        "colab": {}
      },
      "source": [
        "from keras.callbacks import ModelCheckpoint\n",
        "#from tensorflow.keras.callbacks import ModelCheckpoint"
      ],
      "execution_count": 13,
      "outputs": []
    },
    {
      "cell_type": "code",
      "metadata": {
        "id": "NV2ue3W7ybBj",
        "colab_type": "code",
        "colab": {
          "base_uri": "https://localhost:8080/",
          "height": 326
        },
        "outputId": "3d604429-cdac-4eab-c7a5-7f2495922355"
      },
      "source": [
        "r = model.fit_generator(\n",
        "  training_set,\n",
        "  validation_data=test_set,\n",
        "  epochs=100,\n",
        "  steps_per_epoch=len(training_set),\n",
        "  validation_steps=len(valid_set),\n",
        "  callbacks=[ModelCheckpoint('/content/drive/My Drive/Colab Notebooks/CNN_VGG_Weights/model_{epoch:03d}_{val_accuracy:.3f}.h5', \n",
        "                                            save_best_only=True,\n",
        "                                            save_weights_only=False,\n",
        "                                            monitor='val_accuracy')\n",
        "          ],\n",
        "initial_epoch=0\n",
        ")"
      ],
      "execution_count": null,
      "outputs": [
        {
          "output_type": "stream",
          "text": [
            "243/243 [==============================] - 248s 1s/step - loss: 0.5231 - accuracy: 0.7375 - val_loss: 0.4679 - val_accuracy: 0.7312\n",
            "Epoch 29/100\n",
            "243/243 [==============================] - 246s 1s/step - loss: 0.5207 - accuracy: 0.7406 - val_loss: 0.3951 - val_accuracy: 0.7425\n",
            "Epoch 30/100\n",
            "243/243 [==============================] - 247s 1s/step - loss: 0.5183 - accuracy: 0.7421 - val_loss: 0.5681 - val_accuracy: 0.7720\n",
            "Epoch 31/100\n",
            "243/243 [==============================] - 247s 1s/step - loss: 0.5139 - accuracy: 0.7434 - val_loss: 0.6518 - val_accuracy: 0.7720\n",
            "Epoch 32/100\n",
            "243/243 [==============================] - 247s 1s/step - loss: 0.5078 - accuracy: 0.7458 - val_loss: 0.4223 - val_accuracy: 0.7585\n",
            "Epoch 33/100\n",
            "243/243 [==============================] - 247s 1s/step - loss: 0.5097 - accuracy: 0.7484 - val_loss: 0.4451 - val_accuracy: 0.7823\n",
            "Epoch 34/100\n",
            "243/243 [==============================] - 248s 1s/step - loss: 0.5068 - accuracy: 0.7469 - val_loss: 0.4341 - val_accuracy: 0.7559\n",
            "Epoch 35/100\n",
            "243/243 [==============================] - 247s 1s/step - loss: 0.5063 - accuracy: 0.7491 - val_loss: 0.6549 - val_accuracy: 0.7765\n",
            "Epoch 36/100\n",
            " 61/243 [======>.......................] - ETA: 2:27 - loss: 0.4959 - accuracy: 0.7606"
          ],
          "name": "stdout"
        }
      ]
    },
    {
      "cell_type": "code",
      "metadata": {
        "id": "22u2fZjaMa1r",
        "colab_type": "code",
        "colab": {}
      },
      "source": [
        "#model.load_weights(bestmodel)\n",
        "model = keras.models.load_model('drive/My Drive/Colab Notebooks/model_VGG19_DATASET1/model_003_0.566')"
      ],
      "execution_count": null,
      "outputs": []
    },
    {
      "cell_type": "code",
      "metadata": {
        "id": "Occqr3PjMbqA",
        "colab_type": "code",
        "colab": {}
      },
      "source": [
        "results = model.evaluate(training_set,steps=len(training_set))\n",
        "print('Train accuracy:', results[1]*100)"
      ],
      "execution_count": null,
      "outputs": []
    },
    {
      "cell_type": "code",
      "metadata": {
        "id": "RusWA4KsMatH",
        "colab_type": "code",
        "colab": {}
      },
      "source": [
        "results = model.evaluate(test_set,steps=len(test_set))\n",
        "print('Test accuracy:', results[1]*100)"
      ],
      "execution_count": null,
      "outputs": []
    }
  ]
}